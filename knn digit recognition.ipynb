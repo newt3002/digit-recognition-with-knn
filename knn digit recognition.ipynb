{
 "cells": [
  {
   "cell_type": "code",
   "execution_count": null,
   "id": "ad980f9d",
   "metadata": {},
   "outputs": [],
   "source": [
    "import pandas as pd\n",
    "import numpy as np\n",
    "import matplotlib.pyplot as plt"
   ]
  },
  {
   "cell_type": "code",
   "execution_count": null,
   "id": "18bc041d",
   "metadata": {},
   "outputs": [],
   "source": [
    "# Importing data set\n",
    "df = pd.read_csv('mnist_train.csv')\n",
    "df.head()"
   ]
  },
  {
   "cell_type": "code",
   "execution_count": null,
   "id": "b2635030",
   "metadata": {},
   "outputs": [],
   "source": [
    "# Data frame to np array\n",
    "data = df.values\n",
    "\n",
    "# splitting data into train and test\n",
    "split = int(.99*data.shape[0])\n",
    "train_data, test_data = data[:split,:], data[split:,:]"
   ]
  },
  {
   "cell_type": "code",
   "execution_count": null,
   "id": "2075c47e",
   "metadata": {},
   "outputs": [],
   "source": [
    "# slicing data into features and labels\n",
    "X = train_data[:,1:]\n",
    "y = train_data[:,0]\n",
    "x_test, y_test = test_data[:,1:], test_data[:,0]\n",
    "print(X.shape, y.shape, x_test.shape, y_test.shape)"
   ]
  },
  {
   "cell_type": "code",
   "execution_count": null,
   "id": "b021f538",
   "metadata": {},
   "outputs": [],
   "source": [
    "# plotting a picture of example\n",
    "def picture_it(x):\n",
    "    pic = x.reshape(28,-1)\n",
    "    plt.imshow(pic, cmap = 'gray')\n",
    "    plt.show()"
   ]
  },
  {
   "cell_type": "code",
   "execution_count": null,
   "id": "dbdcabc8",
   "metadata": {},
   "outputs": [],
   "source": [
    "# finding k nearest neighbourhood of point a\n",
    "def distance(a,k):\n",
    "    dist = np.sqrt(np.sum((X-a)**2, axis = 1))[np.newaxis].T # vector of all the distances from point a to all the points in dataset\n",
    "    new_mat = np.hstack([dist,train_data]) # stacking training data with distance vector to access corresponding labels and points\n",
    "    sortedArr = new_mat[new_mat[:,0].argsort()]\n",
    "    knn = sortedArr[0:k,:]\n",
    "    return knn"
   ]
  },
  {
   "cell_type": "code",
   "execution_count": null,
   "id": "ec2d2772",
   "metadata": {},
   "outputs": [],
   "source": [
    "def prediction(a):\n",
    "    k = 5\n",
    "    dist = distance(a,k)\n",
    "#     print(dist[:,1])\n",
    "    l = []\n",
    "    for i in range(10):\n",
    "        l.append((dist[:,1] == i).sum())\n",
    "#     print(l)\n",
    "    c = l.index(max(l))\n",
    "    picture_it(a)\n",
    "    print('this is the picture of ', c)\n",
    "    return c"
   ]
  },
  {
   "cell_type": "code",
   "execution_count": null,
   "id": "a3047cb0",
   "metadata": {},
   "outputs": [],
   "source": [
    "prediction(x_test[44]) # prediction takes examples from the test set"
   ]
  },
  {
   "cell_type": "code",
   "execution_count": null,
   "id": "dcc327bc",
   "metadata": {},
   "outputs": [],
   "source": [
    "### Function to check accuracy of knn\n",
    "# def accuracy ():\n",
    "#     n = 0\n",
    "#     for i in range(x_test.shape[0]):\n",
    "#         l = i*100/x_test.shape[0]\n",
    "#         digit = x_test[i,:]\n",
    "#         p = prediction(digit)\n",
    "#         if p == y_test[i]:\n",
    "#             n += 1\n",
    "#         if l.is_integer():\n",
    "#             print(i*100/x_test.shape[0],'% testing done')\n",
    "#             print(\"knn accuracy = \",(n*100)/(i+1),'%')"
   ]
  },
  {
   "cell_type": "code",
   "execution_count": null,
   "id": "5f88cb88",
   "metadata": {
    "scrolled": true
   },
   "outputs": [],
   "source": [
    "# accuracy()"
   ]
  }
 ],
 "metadata": {
  "kernelspec": {
   "display_name": "Python 3",
   "language": "python",
   "name": "python3"
  },
  "language_info": {
   "codemirror_mode": {
    "name": "ipython",
    "version": 3
   },
   "file_extension": ".py",
   "mimetype": "text/x-python",
   "name": "python",
   "nbconvert_exporter": "python",
   "pygments_lexer": "ipython3",
   "version": "3.7.0"
  }
 },
 "nbformat": 4,
 "nbformat_minor": 5
}
